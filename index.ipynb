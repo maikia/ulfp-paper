{
 "cells": [
  {
   "cell_type": "markdown",
   "metadata": {},
   "source": [
    "# Licence\n",
    "Documentation, examples and generated figures are licensed under the [Creative Commons Attribution 4.0 license](https://creativecommons.org/licenses/by/4.0/). The source code of the library is licensed under the [MIT license](https://opensource.org/licenses/mit-license.php). \n",
    "\n",
    "Authors: Maria Teleńczuk"
   ]
  },
  {
   "cell_type": "markdown",
   "metadata": {},
   "source": [
    "# How to run the uLFP model"
   ]
  },
  {
   "cell_type": "markdown",
   "metadata": {},
   "source": [
    "## 0. Pre-install\n",
    "You need to have Neuron simulator for Python installed and NeuronEAP downloaded from https://github.com/maikia/neuroneap either to the same directory or you need to set the Python path"
   ]
  },
  {
   "cell_type": "markdown",
   "metadata": {},
   "source": [
    "## 1. Translate your morphologies\n",
    "You should choose the morphologies for your postsynaptic population (I used neuromorpho.org online database) of neurons from the area you are interested in; store all of the morphologies of the region/type in one folder in .swc format. To translate them so that the dendrites are vertical you should run [rotate_neurons.py](rotate_neurons.py.ipynb).\n",
    "Choose your parameters appropriately. "
   ]
  },
  {
   "cell_type": "markdown",
   "metadata": {},
   "source": [
    "## 2. Choose parameters for your model\n",
    "and save them in .json file.\n",
    "You can find the template of how to do that and how the parameters should look like in [set_general_params.py](set_general_params.py.ipynb)\n",
    "This will create an empty folder to store the results and the .json params file with the parameters"
   ]
  },
  {
   "cell_type": "markdown",
   "metadata": {},
   "source": [
    "## 3. Choose parameters for each cell\n",
    "\n",
    "\n",
    "Run [set_cell_params.py](set_cell_params.py.ipynb), this will create a json file for each cell, it will define the morphology used for each cell and where it is placed in space"
   ]
  },
  {
   "cell_type": "markdown",
   "metadata": {},
   "source": [
    "## 4. Simulate cells\n",
    "[simulate_cells.py](simulate_cells.py.ipynb)\n",
    "This will call each cell separately (ie if you have a possibility you can run each of them on separate processor).\n",
    "This is the longest step and the duration depends on the parameters you set (ie the number of postsynaptic cells, size of the grid, length of the simulation, etc)"
   ]
  },
  {
   "cell_type": "markdown",
   "metadata": {},
   "source": [
    "## 5. Combine the results\n",
    "There is local field potential calculated for each neuron separately. We can sum it linearly. To do that run\n",
    "[sum_cell_results.py](sum_cell_results.py.ipynb) (don't forget to set the correct params')"
   ]
  },
  {
   "cell_type": "markdown",
   "metadata": {},
   "source": [
    "## 6. plot the results\n",
    "- here is an example of plotting results for a single cell: (activity at its synapses) [plot_cell_results.py](plot_cell_results.py.ipynb)\n",
    "    \n",
    "- here are few functions which plot the total field potential: [plot_summed_results.py](plot_summed_results.py.ipynb)\n",
    "Many parameters are saved (hence you need a lot of memory space for larger simulations) but you can go wild with what and how you want to plot it"
   ]
  },
  {
   "cell_type": "markdown",
   "metadata": {},
   "source": []
  },
  {
   "cell_type": "code",
   "execution_count": null,
   "metadata": {
    "collapsed": true
   },
   "outputs": [],
   "source": []
  }
 ],
 "metadata": {
  "anaconda-cloud": {},
  "kernelspec": {
   "display_name": "Python 3",
   "language": "python",
   "name": "python3"
  },
  "language_info": {
   "codemirror_mode": {
    "name": "ipython",
    "version": 3
   },
   "file_extension": ".py",
   "mimetype": "text/x-python",
   "name": "python",
   "nbconvert_exporter": "python",
   "pygments_lexer": "ipython3",
   "version": "3.7.3"
  }
 },
 "nbformat": 4,
 "nbformat_minor": 1
}
