{
 "cells": [
  {
   "cell_type": "markdown",
   "metadata": {},
   "source": [
    "prepare general parameters\n",
    "\n",
    "parameters are saved in json file. json file has advantage that it is saved in the text format and therefore it can be easily opened, visualised and changed without python\n",
    "\n"
   ]
  },
  {
   "cell_type": "code",
   "execution_count": 1,
   "metadata": {
    "collapsed": true
   },
   "outputs": [],
   "source": [
    "import datetime\n",
    "import json\n",
    "import numpy as np\n",
    "import os\n",
    "\n",
    "import lib.helper as hl "
   ]
  },
  {
   "cell_type": "code",
   "execution_count": 2,
   "metadata": {
    "collapsed": false
   },
   "outputs": [],
   "source": [
    "region_type = 'hippocamp'\n",
    "current_dir = os.getcwd()\n",
    "dir_morpho_vertical = os.path.join(current_dir,\n",
    "                                       'data/vertical')# where your vertical morphologies are saved\n",
    "results_dir = os.path.join(current_dir,\n",
    "                                       'data/results/')\n",
    "file_name = 'all.json'\n",
    "neuron_type = 'exc'"
   ]
  },
  {
   "cell_type": "code",
   "execution_count": 3,
   "metadata": {
    "collapsed": false
   },
   "outputs": [],
   "source": [
    "\"\"\" generates plane json file with the parameters set to default;\n",
    "file_name will be preceeded by current date and time\n",
    "and new folder will be\n",
    "created of the same name as .json file \"\"\"  \n",
    "# check if dir exists and create it if it does not\n",
    "hl.create_folder(results_dir)\n",
    "\n",
    "# check current date/time and create new file and folder name\n",
    "\n",
    "i = datetime.datetime.now()\n",
    "new_file_name = (\"%s_%s_%s_%s_%s_%s\" % (i.year, i.month, i.day, i.hour, i.minute, file_name))\n",
    "new_folder_name = results_dir + new_file_name[:-5] + '/'\n",
    "\n",
    "# create new dir with the name of .json file in this dir\n",
    "hl.create_folder(new_folder_name)\n"
   ]
  },
  {
   "cell_type": "code",
   "execution_count": 4,
   "metadata": {
    "collapsed": false
   },
   "outputs": [],
   "source": [
    "# example of two sets of parameters\n",
    "def select_region_type_params(region_type, neuron_type,\n",
    "                              new_folder_name, new_file_name, dir_morpho_vertical, \n",
    "                              celltype = ''):\n",
    "    '''\n",
    "    :param region_type: 'neocortex' or 'hippocamp'\n",
    "    :param neuron_type: 'exc' or 'inh'\n",
    "    :return:\n",
    "    '''\n",
    "    grid_size = 100 # The larger the grid the finer the results but also the longer the analysis\n",
    "\n",
    "    # HIPPOCAMPUS EXCITATORY\n",
    "    def hippocamp_exc():\n",
    "        # you can read the data from the file\n",
    "        cell_name =  'Ascoli_NMO_187.swc'\n",
    "        # save the parameters into the created file\n",
    "        parameters = {'save_data_dir': new_folder_name,\n",
    "                      'save_data_name': new_file_name[:-5] + '.npz',\n",
    "                      'text_file_name': 'parameters.txt',\n",
    "                      'dir_morpho_vertical': dir_morpho_vertical,  # where are all the cell morphologies stored\n",
    "                      'range_inh_syn_on_one':[0, 0], # min and max number of synapses placed on single postsynaptic neuron\n",
    "                      'range_exc_syn_on_one': [1, 2],\n",
    "                      # min and max number of synapses placed on single postsynaptic neuron\n",
    "                      'cell_no': 10,  # number of cells\n",
    "                      'repeat_morpho': True,\n",
    "                      # if True the cell will be each time randomly selected from the directory, otherwise cell_no must be <= to the number of the cells in the directory\n",
    "                      'cell_layer_ranges': [[-500, -40], [-40, 40], [40, 120], [120, 420], [420, 1000]],\n",
    "                      'region_layer_ranges': [[-500, -40], [-40, 40], [40, 120], [120, 420], [420, 1000]],\n",
    "                          #[[-500, -35],[-35, 30],[30, 100],[100, 455],[455, 1000]], # [[-500, -30],[-30, 30],[30,35],[35, 600],[600, 1000]],#[[-500, -20], [-20, 30], [30, 100], [100, 400], [400, 1000]],\n",
    "                      # layers within cells will be used for placing synapses. 0 is assumed to be at the soma\n",
    "                      'inh_synapse_prob': 0.0,  # 0.225, # 1 probability of a creating a inh synapse\n",
    "                      'inh_synapse_prob_layer': np.zeros(26).tolist(), #[0, 0, 0, 0, 0, 0, 0, 0],\n",
    "                      # [0,8,3,0,0], #,#, #[0, 3, 1, 0, 0], #, # max_no_of_inh_synapes within each of the cell_layers on single cell\n",
    "                      'exc_synapse_prob': 0.42,  # probability of a creating a exc synapse\n",
    "                      'exc_synapse_prob_layer':  [0.5,0,0,0.5,0], # restults for Ascoli_ca3b.CNG.swc\n",
    "                          #[0.4, 0,0,0.3,0.3],\n",
    "                      #[0.0, 0.0, 0.0, 0.005, 0.005, 0.01, 0.02, 0.24, 0.25, 0.0, 0.055, 0.055, 0.055, 0.055, 0.055, 0.055, 0.055, 0.055, 0.03, 0.0, 0.0, 0.0, 0.0], #[3.4, 3.4, 3.4, 3.4, 3.4, 3.4, 3.4, 3.4, 0.64, 0.0, 0.03, 2.1, 2.1, 2.5, 6.9, 6.9, 6.9, 3.5, 1.72, 0.8, 0.8, 0.4, 0.4], #0.23, 0.04, 0, 0.002, 0.16, 0.47, 0.1, 0], # Megias, # [0.53, 0, 0, 0.47, 0], # Guzman\n",
    "                      #'exc_synapse_prob_layer': [0.30, 0, 0, 0.70, 0],\n",
    "                      # [7,0,0,3,0], #[0,0,0,0,0], #[7,0,0,3,0]# max_no_of_inh_synapes within each of the cell_layers on single cell\n",
    "                      'grid_size': grid_size,\n",
    "                      'space_x_range': (-500, 500),  # microm\n",
    "                      'space_x_prob_distribution':[0,0,0,0,0,0,0,0,0,1,1,0,0,0,0,0,0,0,0,0],# restults for Ascoli_ca3b.CNG.swc\n",
    "                          #[0.15, 0.30, 0.22, 0.15, 0.09, 0.05, 0.03, 0.01], # distribution of the somas in x space in each x_hist from the 0 x-coord\n",
    "                      'x_hist': 50, # microm - placing soma with the prob 'space_x_prob_distribution' for each bin of size x_hist from the 0 x-coord\n",
    "                      'space_y_range': (-500, 800),\n",
    "                      # microm; width of the pyramidal cell layer where the soma will be placed\n",
    "                      'space_z_range': (-200, 200),  # microm\n",
    "                      'space_soma_range': (-20, 20),  # place soma solely in the pyr layer\n",
    "                      'record_x_range': (-500, 500),  # (-100, 100),\n",
    "                      'record_y_range': (-500, 800),\n",
    "                      'min_cell_distance': 10,  # cell size\n",
    "\n",
    "                      'timestep': 0.025,  # ms/ dt for simulation\n",
    "                      'sim_len': 15,  # ms\n",
    "                      'prop_velocity_inh': 0.5,  # m/s propagation velocity in the axon of inh neuron in this area\n",
    "                      'prop_velocity_exc': 0.45,  # Meeks and Mennerick (2007) m/s propagation velocity in the axon of exc neuron in this area\n",
    "                      'stim_delay': 1.,\n",
    "                      # ms stimulation delay of the synapses from the beginning of the simulation + the propagation delay calculated from the distance of the synapse from (0,0,0) and prop_velocity_inh or prop_velocity_exc\n",
    "\n",
    "                      'syn_rev_pot_exc': 0.0,  # mV\n",
    "                      'syn_rev_pot_inh': -72.0,  # mV\n",
    "                      'tau1_exc': 0.26,  # Debanne (1995), EPSC, CA3-CA3 peak to peak (Kowalski 2016 (20-80%) Guzman 2016 #1.65,  # ms\n",
    "                      'tau2_exc': 6.71, #8.9,  #\n",
    "                      'tau1_inh': 0,  # 1.2,  # ms\n",
    "                      'tau2_inh': 0,  # 14.4,  # ms\n",
    "                      'con_weight_exc': 0.00054, # 0.54e-3, #.Guzman 2016: 0.00054 uS\n",
    "                      # microS; also called g_max (try also 0.25e-3) # max excitatory synapse conductance\n",
    "                      'con_weight_inh': 0,  # .49e-3,\n",
    "                      # microS; also called g_max (try also 0.6e-3) # max inhibitory synapse conductance\n",
    "\n",
    "                      'external_resistivity': 3.5,  # Ohm.m (external)\n",
    "                      'cell_area': 'hippocamp',  # morphologies of which area should be used\n",
    "                      'memb_pot': -57  # mV Kowalski et al 2016\n",
    "                      }\n",
    "        # if read from file, overwrite the values with file values\n",
    "\n",
    "        return parameters\n",
    "\n",
    "    # HIPPOCAMPUS INHIBITORY\n",
    "    def hippocamp_inh():\n",
    "        # save the parameters into the created file\n",
    "        parameters = {'save_data_dir': new_folder_name,\n",
    "                      'save_data_name': new_file_name[:-5] + '.npz',\n",
    "                      'text_file_name': 'parameters.txt',\n",
    "                      'dir_morpho_vertical': dir_morpho_vertical,  # where are all the cell morphologies stored\n",
    "                      'range_inh_syn_on_one': [1, 6],  #(Gulyas, 1993 - could be something better -> it's guinue pig )\n",
    "                      # min and max number of synapses placed on single postsynaptic neuron\n",
    "                      'range_exc_syn_on_one': [0, 0],\n",
    "                      'cell_no': 10,  #number of cells\n",
    "                      'repeat_morpho': True,\n",
    "                      # if True the cell will be each time randomly selected from the directory, otherwise cell_no must be <= to the number of the cells in the directory\n",
    "                      'cell_layer_ranges': [[-500, -40], [-40, 40], [40, 120], [120, 420], [420, 1000]],\n",
    "                      'region_layer_ranges': [[-500, -40], [-40, 40], [40, 120], [120, 420], [420, 1000]],\n",
    "                      # layers within cells will be used for placing synapses. 0 is assumed to be at the soma\n",
    "                      'inh_synapse_prob': 0.5,  # 0.225, # 1 probability of a creating a inh synapse\n",
    "                      'inh_synapse_prob_layer': [0, 0.8, 0.2, 0, 0],\n",
    "                      # [0,8,3,0,0], #,#, #[0, 3, 1, 0, 0], #, # max_no_of_inh_synapes within each of the cell_layers on single cell\n",
    "                      'exc_synapse_prob': 0.0,  # probability of a creating a exc synapse\n",
    "                      'exc_synapse_prob_layer': [0, 0, 0, 0, 0],\n",
    "                      # [7,0,0,3,0], #[0,0,0,0,0], #[7,0,0,3,0]# max_no_of_inh_synapes within each of the cell_layers on single cell\n",
    "                      'grid_size': grid_size,\n",
    "                      'space_x_range': (-500, 500),  # microm\n",
    "                      'space_y_range': (-500, 800),\n",
    "                      'space_x_prob_distribution': [0.005, 0.01, 0.02, 0.04, 0.05, 0.07, 0.15, 0.2, 0.22, 0.25,\n",
    "                                                    0.25, 0.22, 0.2, 0.15, 0.07, 0.05, 0.04, 0.02, 0.01, 0.005], # trying to get more or less gaussian distribution - no references\n",
    "                      # distribution of the somas in x space in each x_hist from the 0 x-coord\n",
    "                      'x_hist': 50, #microm\n",
    "                      # microm - placing soma with the prob 'space_x_prob_distribution' for each bin of size x_hist from the 0 x-coord\n",
    "                      # microm; width of the pyramidal cell layer where the soma will be placed\n",
    "                      'space_z_range': (-200, 200),  # microm\n",
    "                      'space_soma_range': (-30, 40),  #  place soma solely in the pyr layer\n",
    "                      'record_x_range': (-500, 500),  # (-100, 100),\n",
    "                      'record_y_range': (-500, 800),\n",
    "                      'min_cell_distance': 10,  # cell size\n",
    "\n",
    "                      'timestep': 0.025,  # ms/ dt for simulation\n",
    "                      'sim_len': 15,  # ms\n",
    "                      'prop_velocity_inh': 0.5,  # m/s propagation velocity in the axon of inh neuron in this area\n",
    "                      'prop_velocity_exc': 0.38,  # m/s propagation velocity in the axon of exc neuron in this area\n",
    "                      'stim_delay': 1.,\n",
    "                      # ms stimulation delay of the synapses from the beginning of the simulation + the propagation delay calculated from the distance of the synapse from (0,0,0) and prop_velocity_inh or prop_velocity_exc\n",
    "\n",
    "                      'syn_rev_pot_exc': 0.0,  # mV\n",
    "                      'syn_rev_pot_inh': -75.0,  # mV\n",
    "                      'tau1_exc': 2.2,  # Guzman 2016 #1.65,  # ms\n",
    "                      'tau2_exc': 9.5,  # Guzman 2016 #7.35,  # ms\n",
    "                      'tau1_inh': 0.45,  # Bartos et al 2002: 0.45 # Miles et al. 1996: 2.8; Bazelot 2010: 2\n",
    "                      'tau2_inh': 1.2,  # Bartos et al 2002: 1.2 # ms Miles 1996: 27 at half amplitude\n",
    "                      'con_weight_exc': .24e-3,  # .31e-3,\n",
    "                      # microS; also called g_max (try also 0.25e-3) # max excitatory synapse conductance\n",
    "                      'con_weight_inh': 0.005,  # Bartos et al 2002: 5 nS #.49e-3,\n",
    "                      # microS; also called g_max (try also 0.6e-3) # max inhibitory synapse conductance\n",
    "\n",
    "                      'external_resistivity': 3.5,  # Ohm.m (external)\n",
    "                      'cell_area': 'hippocamp',  # morphologies of which area should be used\n",
    "\n",
    "                      'memb_pot': -70 # mV initial membrane potential\n",
    "                      }\n",
    "        return parameters\n",
    "\n",
    "\n",
    "    if region_type == 'hippocamp':\n",
    "        if neuron_type == 'exc':\n",
    "            return hippocamp_exc()\n",
    "        elif neuron_type == 'inh':\n",
    "            return hippocamp_inh()\n",
    "\n",
    "\n"
   ]
  },
  {
   "cell_type": "code",
   "execution_count": 5,
   "metadata": {
    "collapsed": false
   },
   "outputs": [],
   "source": [
    "parameters = select_region_type_params(region_type,neuron_type,\n",
    "                                                    new_folder_name=new_folder_name,new_file_name=new_file_name,\n",
    "                                                    dir_morpho_vertical=dir_morpho_vertical,\n",
    "                                                    celltype='pyr')"
   ]
  },
  {
   "cell_type": "code",
   "execution_count": 6,
   "metadata": {
    "collapsed": false
   },
   "outputs": [
    {
     "name": "stdout",
     "output_type": "stream",
     "text": [
      "Created new DEFAULT .json file: /home/maria/maja/code/lfp-paper/data/results/2018_12_5_14_1_all.json\n"
     ]
    }
   ],
   "source": [
    "# save params\n",
    "with file(results_dir + new_file_name, 'w') as fid:\n",
    "    json.dump(parameters, fid, indent=True)\n",
    "\n",
    "print (\"Created new DEFAULT .json file: %s%s\" % (results_dir, new_file_name))"
   ]
  },
  {
   "cell_type": "code",
   "execution_count": null,
   "metadata": {
    "collapsed": true
   },
   "outputs": [],
   "source": []
  },
  {
   "cell_type": "code",
   "execution_count": null,
   "metadata": {
    "collapsed": true
   },
   "outputs": [],
   "source": []
  }
 ],
 "metadata": {
  "kernelspec": {
   "display_name": "Python [conda root]",
   "language": "python",
   "name": "conda-root-py"
  },
  "language_info": {
   "codemirror_mode": {
    "name": "ipython",
    "version": 2
   },
   "file_extension": ".py",
   "mimetype": "text/x-python",
   "name": "python",
   "nbconvert_exporter": "python",
   "pygments_lexer": "ipython2",
   "version": "2.7.12"
  }
 },
 "nbformat": 4,
 "nbformat_minor": 1
}
