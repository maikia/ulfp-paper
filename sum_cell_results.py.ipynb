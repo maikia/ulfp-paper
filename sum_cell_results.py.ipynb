{
 "cells": [
  {
   "cell_type": "code",
   "execution_count": 1,
   "metadata": {
    "collapsed": true
   },
   "outputs": [],
   "source": [
    "import json\n",
    "import numpy as np\n",
    "import os\n",
    "import lib.helper as hl"
   ]
  },
  {
   "cell_type": "code",
   "execution_count": 2,
   "metadata": {
    "collapsed": false
   },
   "outputs": [],
   "source": [
    "current_dir = os.getcwd()\n",
    "dir_general = os.path.join(current_dir,'data/results/')\n",
    "sim_used = '2018_12_5_14_1_all'"
   ]
  },
  {
   "cell_type": "code",
   "execution_count": 3,
   "metadata": {
    "collapsed": true
   },
   "outputs": [],
   "source": [
    "dir_cell_results = os.path.join(dir_general,sim_used,'cell/results/')\n",
    "dir_cell_params = os.path.join(dir_general,sim_used,'cell/params/')"
   ]
  },
  {
   "cell_type": "code",
   "execution_count": 4,
   "metadata": {
    "collapsed": false
   },
   "outputs": [],
   "source": [
    "'''\n",
    "search for all the results obtained by simulating single cells and sums them toghether\n",
    "it adds /cell/results to dir_general to find the dir with the results\n",
    "and it saves it in /all_results/\n",
    "'''\n",
    "\n",
    "cell_files = hl.find_files(dir_cell_results, ext='npz')  # get all the cell results\n",
    "\n",
    "inh_syn_x, inh_syn_y, inh_syn_z = [], [], []\n",
    "exc_syn_x, exc_syn_y, exc_syn_z = [], [], []\n",
    "\n",
    "# load all params\n",
    "with file(os.path.join(dir_general, sim_used)+'.json', 'r') as fid:\n",
    "    params_all = json.load(fid)\n",
    "y_range = params_all['record_y_range']\n",
    "x_range = params_all['record_x_range']"
   ]
  },
  {
   "cell_type": "code",
   "execution_count": 5,
   "metadata": {
    "collapsed": true
   },
   "outputs": [],
   "source": [
    "def add_syn_coords_to_list(syn_x, syn_y, syn_z, list_of_coords):\n",
    "    if len(list_of_coords) == 0:\n",
    "        return syn_x, syn_y, syn_z\n",
    "    else:\n",
    "        for next_coord in list_of_coords:\n",
    "            syn_x.append(next_coord[0])\n",
    "            syn_y.append(next_coord[1])\n",
    "            syn_z.append(next_coord[2])\n",
    "        return syn_x, syn_y, syn_z"
   ]
  },
  {
   "cell_type": "code",
   "execution_count": 6,
   "metadata": {
    "collapsed": false
   },
   "outputs": [
    {
     "name": "stdout",
     "output_type": "stream",
     "text": [
      "summing cell:  0 / 10  :  c10861.CNG9 .json\n",
      "summing cell:  1 / 10  :  c10861.CNG7 .json\n",
      "summing cell:  2 / 10  :  c10861.CNG6 .json\n",
      "summing cell:  3 / 10  :  c10861.CNG2 .json\n",
      "summing cell:  4 / 10  :  c10861.CNG1 .json\n",
      "summing cell:  5 / 10  :  c10861.CNG5 .json\n",
      "summing cell:  6 / 10  :  c10861.CNG4 .json\n",
      "summing cell:  7 / 10  :  c10861.CNG3 .json\n",
      "summing cell:  8 / 10  :  c10861.CNG8 .json\n",
      "summing cell:  9 / 10  :  c10861.CNG0 .json\n"
     ]
    }
   ],
   "source": [
    "idx_mf = 0\n",
    "for idx, cell_file in enumerate(cell_files):\n",
    "    print 'summing cell: ', idx, '/', len(cell_files), ' : ',  cell_file[:-4], '.json'\n",
    "    results = np.load(os.path.join(dir_cell_results, cell_file))\n",
    "    \n",
    "    with file(os.path.join(dir_cell_params, cell_file[:-4])+'.json', 'r') as fid:\n",
    "        params = json.load(fid)\n",
    "        \n",
    "    # only if the field was calculated add it to the sum\n",
    "    if ('v_ext' in results.keys()):\n",
    "        if idx == 0:\n",
    "            v_ext = results['v_ext']\n",
    "        else:\n",
    "            v_ext += results['v_ext']\n",
    "    inh_syn_x, inh_syn_y, inh_syn_z=add_syn_coords_to_list(inh_syn_x, inh_syn_y, inh_syn_z, params['inh_syn_coords'])\n",
    "    exc_syn_x, exc_syn_y, exc_syn_z=add_syn_coords_to_list(exc_syn_x, exc_syn_y, exc_syn_z, params['exc_syn_coords'])\n",
    "inh_syn_coords = zip(inh_syn_x, inh_syn_y, inh_syn_z)\n",
    "exc_syn_coords = zip(exc_syn_x, exc_syn_y, exc_syn_z)"
   ]
  },
  {
   "cell_type": "code",
   "execution_count": 7,
   "metadata": {
    "collapsed": false
   },
   "outputs": [
    {
     "name": "stdout",
     "output_type": "stream",
     "text": [
      "results were saved in  /home/maria/maja/code/lfp-paper/data/results/2018_12_5_14_1_all/results_all.npz\n"
     ]
    }
   ],
   "source": [
    "# save the summed field\n",
    "savefile = os.path.join(dir_general, sim_used, 'results_all.npz')\n",
    "if ('v_ext' in results.keys()):\n",
    "    np.savez(savefile, v_ext=v_ext,\n",
    "             inh_syn_coords=inh_syn_coords,exc_syn_coords=exc_syn_coords,\n",
    "             record_x_range=x_range, record_y_range=y_range)\n",
    "else:\n",
    "    np.savez(savefile,\n",
    "                 inh_syn_coords=inh_syn_coords, exc_syn_coords=exc_syn_coords)\n",
    "print 'results were saved in ', savefile"
   ]
  },
  {
   "cell_type": "code",
   "execution_count": null,
   "metadata": {
    "collapsed": true
   },
   "outputs": [],
   "source": []
  }
 ],
 "metadata": {
  "anaconda-cloud": {},
  "kernelspec": {
   "display_name": "Python [conda root]",
   "language": "python",
   "name": "conda-root-py"
  },
  "language_info": {
   "codemirror_mode": {
    "name": "ipython",
    "version": 2
   },
   "file_extension": ".py",
   "mimetype": "text/x-python",
   "name": "python",
   "nbconvert_exporter": "python",
   "pygments_lexer": "ipython2",
   "version": "2.7.12"
  }
 },
 "nbformat": 4,
 "nbformat_minor": 1
}
