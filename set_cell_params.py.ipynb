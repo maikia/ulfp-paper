{
 "cells": [
  {
   "cell_type": "markdown",
   "metadata": {},
   "source": [
    "# this script will create the parameter file for each cell"
   ]
  },
  {
   "cell_type": "code",
   "execution_count": 1,
   "metadata": {
    "collapsed": true
   },
   "outputs": [],
   "source": [
    "import json\n",
    "import numpy as np\n",
    "import os\n",
    "\n",
    "import lib.cell_support as cs\n",
    "import lib.helper as hl"
   ]
  },
  {
   "cell_type": "code",
   "execution_count": 2,
   "metadata": {
    "collapsed": false
   },
   "outputs": [],
   "source": [
    "current_dir = os.getcwd()\n",
    "general_params_dir = os.path.join(current_dir,'data/results/')\n",
    "general_params_file = '2018_12_5_14_1_all.json'"
   ]
  },
  {
   "cell_type": "code",
   "execution_count": 3,
   "metadata": {
    "collapsed": false
   },
   "outputs": [],
   "source": [
    "with file(os.path.join(general_params_dir, general_params_file), 'r') as fid:\n",
    "    params_from_file = json.load(fid)"
   ]
  },
  {
   "cell_type": "code",
   "execution_count": 4,
   "metadata": {
    "collapsed": false
   },
   "outputs": [],
   "source": [
    "current_dir = general_params_dir+general_params_file[:-5]\n",
    "param_dir = os.path.join(current_dir +'/cell/params')\n",
    "hl.create_folder(param_dir) "
   ]
  },
  {
   "cell_type": "code",
   "execution_count": 5,
   "metadata": {
    "collapsed": false
   },
   "outputs": [
    {
     "name": "stdout",
     "output_type": "stream",
     "text": [
      "1 / 10 cell saved in /home/maria/maja/code/lfp-paper/data/results/2018_12_5_14_1_all/cell/params/c10861.CNG .json\n",
      "2 / 10 cell saved in /home/maria/maja/code/lfp-paper/data/results/2018_12_5_14_1_all/cell/params/c10861.CNG .json\n",
      "3 / 10 cell saved in /home/maria/maja/code/lfp-paper/data/results/2018_12_5_14_1_all/cell/params/c10861.CNG .json\n",
      "4 / 10 cell saved in /home/maria/maja/code/lfp-paper/data/results/2018_12_5_14_1_all/cell/params/c10861.CNG .json\n",
      "5 / 10 cell saved in /home/maria/maja/code/lfp-paper/data/results/2018_12_5_14_1_all/cell/params/c10861.CNG .json\n",
      "6 / 10 cell saved in /home/maria/maja/code/lfp-paper/data/results/2018_12_5_14_1_all/cell/params/c10861.CNG .json\n",
      "7 / 10 cell saved in /home/maria/maja/code/lfp-paper/data/results/2018_12_5_14_1_all/cell/params/c10861.CNG .json\n",
      "8 / 10 cell saved in /home/maria/maja/code/lfp-paper/data/results/2018_12_5_14_1_all/cell/params/c10861.CNG .json\n",
      "9 / 10 cell saved in /home/maria/maja/code/lfp-paper/data/results/2018_12_5_14_1_all/cell/params/c10861.CNG .json\n",
      "10 / 10 cell saved in /home/maria/maja/code/lfp-paper/data/results/2018_12_5_14_1_all/cell/params/c10861.CNG .json\n"
     ]
    }
   ],
   "source": [
    "cell_filenames, cell_coords = cs.define_coords_for_cells(general_params_dir, general_params_file)\n",
    "\n",
    "exc_synapse_prob_layer = params_from_file['exc_synapse_prob_layer']\n",
    "inh_synapse_prob_layer = params_from_file['inh_synapse_prob_layer']\n",
    "\n",
    "hl.remove_content(param_dir)\n",
    "# iterate over cell_no of cells\n",
    "for idx, morpho_file in enumerate(cell_filenames):\n",
    "    # add probability of adding or not each of the chosen synapses\n",
    "    from scipy import stats\n",
    "    # save the parameters into the created file\n",
    "    parameters = {'morpho_file': morpho_file[:-4],\n",
    "                      'save_data_file': morpho_file[:-4] + '.npz',\n",
    "                      'exc_syn_coords': [],\n",
    "                      'inh_syn_coords': [],\n",
    "                      'no_inh_syn': np.zeros(len(inh_synapse_prob_layer)).tolist(),\n",
    "                      'no_exc_syn': np.zeros(len(exc_synapse_prob_layer)).tolist(),\n",
    "                      'cell_coords': cell_coords[idx].tolist()\n",
    "                      }\n",
    "\n",
    "    cell_param_file = os.path.join(param_dir, morpho_file[:-4])\n",
    "    with file(cell_param_file + str(idx) + '.json', 'w') as fid:\n",
    "        json.dump(parameters, fid, indent=True)\n",
    "    print idx + 1, '/', len(cell_filenames), 'cell saved in', cell_param_file, '.json'"
   ]
  },
  {
   "cell_type": "code",
   "execution_count": null,
   "metadata": {
    "collapsed": true
   },
   "outputs": [],
   "source": []
  },
  {
   "cell_type": "code",
   "execution_count": null,
   "metadata": {
    "collapsed": true
   },
   "outputs": [],
   "source": []
  },
  {
   "cell_type": "code",
   "execution_count": null,
   "metadata": {
    "collapsed": true
   },
   "outputs": [],
   "source": []
  }
 ],
 "metadata": {
  "kernelspec": {
   "display_name": "Python [conda root]",
   "language": "python",
   "name": "conda-root-py"
  },
  "language_info": {
   "codemirror_mode": {
    "name": "ipython",
    "version": 2
   },
   "file_extension": ".py",
   "mimetype": "text/x-python",
   "name": "python",
   "nbconvert_exporter": "python",
   "pygments_lexer": "ipython2",
   "version": "2.7.12"
  }
 },
 "nbformat": 4,
 "nbformat_minor": 1
}
